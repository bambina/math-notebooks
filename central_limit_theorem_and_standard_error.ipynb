{
  "nbformat": 4,
  "nbformat_minor": 0,
  "metadata": {
    "colab": {
      "provenance": [],
      "authorship_tag": "ABX9TyMp13shpIoQ//quPlzVLrV2"
    },
    "kernelspec": {
      "name": "python3",
      "display_name": "Python 3"
    },
    "language_info": {
      "name": "python"
    }
  },
  "cells": [
    {
      "cell_type": "markdown",
      "source": [
        "This notebook investigates the Central Limit Theorem (CLT) for both observational data and discrete random variables. Also, the standard error is briefly discussed at the end."
      ],
      "metadata": {
        "id": "D68mbOCL53Fh"
      }
    },
    {
      "cell_type": "markdown",
      "source": [
        "# The Central Limit Theorem (CLT)\n",
        "\n",
        "When drawing a sample of size n from a population with mean $\\mu$ and variance $\\sigma^2$, the distribution of the sample means approaches a normal distribution $N(\\mu, \\sigma^2/n)$ as n increases.\n",
        "\n",
        "Example:\n",
        "- For a sample of size 5, the variance of the sample means is $\\frac{\\sigma^2}{5}$\n",
        "- For a sample of size 100, the variance of the sample means is $\\frac{\\sigma^2}{100}$\n",
        "\n",
        "In the following cells, we will investigate whether the CLT holds true for observational data and discrete random variables. We will observe how the variance of the sample means decreases as the sample size n increases, verifying the behavior predicted by the CLT."
      ],
      "metadata": {
        "id": "B9v7czQM87Kq"
      }
    },
    {
      "cell_type": "markdown",
      "source": [
        "## Notation for Population and Sample\n",
        "\n",
        "Before we proceed to explore the CLT through examples, let's quickly review the notation and formulas used to describe population and sample statistics.\n",
        "\n",
        "Population:\n",
        "\n",
        "- Size: $N$\n",
        "- Mean: $$\\mu = \\frac{1}{N} \\sum_{i=1}^{N} x_i$$\n",
        "- Variance: $$\\sigma^2 = \\frac{1}{N} \\sum_{i=1}^{N} (x_i - \\mu)^2$$\n",
        "- Standard deviation: $$\\sigma = \\sqrt{\\sigma^2}$$\n",
        "\n",
        "\n",
        "Sample:\n",
        "\n",
        "- Size: $n$\n",
        "- Mean: $$\\bar{X} = \\frac{1}{n} \\sum_{i=1}^{n} x_i$$\n",
        "- Variance (biased): $$s_n^2 = \\frac{1}{n} \\sum_{i=1}^{n} (x_i - \\bar{X})^2$$\n",
        "- Variance (unbiased): $$s_{n-1}^2 = \\frac{1}{n-1} \\sum_{i=1}^{n} (x_i - \\bar{X})^2$$\n",
        "- Standard deviation: $$s = \\sqrt{s_{n-1}^2}$$\n",
        "\n"
      ],
      "metadata": {
        "id": "ayMSSwp4-b5P"
      }
    },
    {
      "cell_type": "code",
      "source": [
        "# Import libs\n",
        "import numpy as np\n",
        "import matplotlib.pyplot as plt\n",
        "plt.rcParams[\"figure.figsize\"] = (5, 3)"
      ],
      "metadata": {
        "id": "B81eXysmIRC6"
      },
      "execution_count": 16,
      "outputs": []
    },
    {
      "cell_type": "code",
      "source": [
        "# 1. Verification of the Central Limit Theorem with Observational Data\n",
        "\n",
        "def variance_observational_data(n):\n",
        "  mu = 100 # populcation mean\n",
        "  sigma = 5 # population standard deviation\n",
        "  pop_var = sigma ** 2 # population var\n",
        "  attempt = 1_000 # number of attempts\n",
        "\n",
        "  # to store sample means\n",
        "  sample_means = []\n",
        "\n",
        "  for _ in range(attempt):\n",
        "    sample = np.random.normal(mu, sigma, n)\n",
        "    sample_mean = np.mean(sample)\n",
        "    sample_means.append(sample_mean)\n",
        "\n",
        "  plt.hist(sample_means)\n",
        "  plt.axvline(mu, color='red')  # draw population mean\n",
        "\n",
        "  print(f\"Expected variance (σ^2/n): {pop_var/n:.3f}\")\n",
        "  print(f\"Actual variance of sample means: {np.var(sample_means):.3f}\")\n",
        "\n",
        "n = 5 # sample size\n",
        "variance_observational_data(n)"
      ],
      "metadata": {
        "colab": {
          "base_uri": "https://localhost:8080/",
          "height": 327
        },
        "id": "HzeGp-YiGI4n",
        "outputId": "11fc45ed-e493-4748-957f-d0d4365eecae"
      },
      "execution_count": 19,
      "outputs": [
        {
          "output_type": "stream",
          "name": "stdout",
          "text": [
            "Expected variance (σ^2/n): 5.000\n",
            "Actual variance of sample means: 4.909\n"
          ]
        },
        {
          "output_type": "display_data",
          "data": {
            "text/plain": [
              "<Figure size 500x300 with 1 Axes>"
            ],
            "image/png": "[encoded data removed]"
          },
          "metadata": {}
        }
      ]
    },
    {
      "cell_type": "code",
      "source": [
        "n = 100 # sample size\n",
        "variance_observational_data(n)"
      ],
      "metadata": {
        "colab": {
          "base_uri": "https://localhost:8080/",
          "height": 327
        },
        "id": "93cZA8DqoTcw",
        "outputId": "b46f6506-7dbc-483c-f606-5f18544567e7"
      },
      "execution_count": 23,
      "outputs": [
        {
          "output_type": "stream",
          "name": "stdout",
          "text": [
            "Expected variance (σ^2/n): 0.250\n",
            "Actual variance of sample means: 0.244\n"
          ]
        },
        {
          "output_type": "display_data",
          "data": {
            "text/plain": [
              "<Figure size 500x300 with 1 Axes>"
            ],
            "image/png": "[encoded data removed]"
          },
          "metadata": {}
        }
      ]
    },
    {
      "cell_type": "code",
      "source": [
        "# 2. Verification of the Central Limit Theorem with discrete random variables\n",
        "\n",
        "def variance_discrete_random_variable(n):\n",
        "  attempt = 1_000 # number of attempts\n",
        "\n",
        "  # store possible values of a die in an array\n",
        "  dice_data = np.arange(1, 7)\n",
        "\n",
        "  # to store sample means\n",
        "  sample_means = np.array([])\n",
        "\n",
        "  for _ in range(attempt):\n",
        "    sample_means = np.append(sample_means, np.random.choice(dice_data, n).mean())\n",
        "\n",
        "  # expected value and variance of a die roll\n",
        "  E = dice_data.sum() / len(dice_data)\n",
        "  pop_var = np.square(dice_data - E).sum() / len(dice_data)\n",
        "\n",
        "  plt.hist(sample_means)\n",
        "  plt.axvline(E, color='red') # draw expected value\n",
        "\n",
        "  print(f\"Expected variance (σ^2/n): {pop_var/n:.3f}\")\n",
        "  print(f\"Actual variance of sample means: {sample_means.var():.3f}\")\n",
        "\n",
        "n = 5 # sample size\n",
        "variance_discrete_random_variable(n)"
      ],
      "metadata": {
        "colab": {
          "base_uri": "https://localhost:8080/",
          "height": 327
        },
        "id": "nA3v8KGc8dtT",
        "outputId": "c4df05a4-0738-4c24-e669-ea7fd31b1f21"
      },
      "execution_count": 24,
      "outputs": [
        {
          "output_type": "stream",
          "name": "stdout",
          "text": [
            "Expected variance (σ^2/n): 0.583\n",
            "Actual variance of sample means: 0.574\n"
          ]
        },
        {
          "output_type": "display_data",
          "data": {
            "text/plain": [
              "<Figure size 500x300 with 1 Axes>"
            ],
            "image/png": "[encoded data removed]"
          },
          "metadata": {}
        }
      ]
    },
    {
      "cell_type": "code",
      "source": [
        "n = 100 # sample size\n",
        "variance_discrete_random_variable(n)"
      ],
      "metadata": {
        "colab": {
          "base_uri": "https://localhost:8080/",
          "height": 327
        },
        "id": "F07Ns7txou_p",
        "outputId": "17ebb46a-4023-4a74-c1bd-9ddfffb3ce66"
      },
      "execution_count": 25,
      "outputs": [
        {
          "output_type": "stream",
          "name": "stdout",
          "text": [
            "Expected variance (σ^2/n): 0.029\n",
            "Actual variance of sample means: 0.028\n"
          ]
        },
        {
          "output_type": "display_data",
          "data": {
            "text/plain": [
              "<Figure size 500x300 with 1 Axes>"
            ],
            "image/png": "[encoded data removed]"
          },
          "metadata": {}
        }
      ]
    },
    {
      "cell_type": "markdown",
      "source": [
        "# Standard Error (SE)\n",
        "\n",
        "The above experiments confirm that the CLT holds for observational data and discrete random variables.\n",
        "\n",
        "As the sample size increases, the variance of the sample means approaches $\\frac{\\sigma^2}{n}$, so the standard deviation of the sample means approaches $\\frac{\\sigma}{\\sqrt{n}}$.\n",
        "\n",
        "We take n samples from a population and examine the sample mean. How different is the obtained sample mean from the population mean?\n",
        "The difference between the mean of a sample of size n and the population mean can be estimated by the standard deviation of the sample means, known as the standard error (SE).\n",
        "\n",
        "$$\\text{Standard deviation of the sample means} = \\text{Standard Error (SE)}$$\n",
        "\n",
        "However, since the population variance is usually unknown, we use the unbiased sample variance $s_{n-1}^2$ to calculate the SE. It has been shown by the CLT that the standard deviation of the sample means approaches $\\frac{\\sigma}{\\sqrt{n}}$, so:\n",
        "\n",
        "$$SE = \\sqrt{\\frac{s_{n-1}^2}{n}} = \\frac{s_{n-1}}{\\sqrt{n}}$$\n",
        "\n",
        "The standard error is widely used in statistical inference such as t-tests."
      ],
      "metadata": {
        "id": "-wU_Z8LURIGR"
      }
    }
  ]
}